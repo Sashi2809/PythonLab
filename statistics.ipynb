{
  "nbformat": 4,
  "nbformat_minor": 0,
  "metadata": {
    "colab": {
      "provenance": [],
      "authorship_tag": "ABX9TyNiiCTcswKqGka27jPZHl7+",
      "include_colab_link": true
    },
    "kernelspec": {
      "name": "python3",
      "display_name": "Python 3"
    },
    "language_info": {
      "name": "python"
    }
  },
  "cells": [
    {
      "cell_type": "markdown",
      "metadata": {
        "id": "view-in-github",
        "colab_type": "text"
      },
      "source": [
        "<a href=\"https://colab.research.google.com/github/Sashi2809/PythonLab/blob/main/statistics.ipynb\" target=\"_parent\"><img src=\"https://colab.research.google.com/assets/colab-badge.svg\" alt=\"Open In Colab\"/></a>"
      ]
    },
    {
      "cell_type": "code",
      "execution_count": 2,
      "metadata": {
        "colab": {
          "base_uri": "https://localhost:8080/"
        },
        "id": "3MuRSVJyeXuI",
        "outputId": "5237cd0e-77d0-49a0-b8f6-c641d1be90ca"
      },
      "outputs": [
        {
          "output_type": "stream",
          "name": "stdout",
          "text": [
            "Enter a list of numbers separated by spaces: 34 5 6 73 4 20 40\n",
            "Mean: 26.0\n",
            "Mode: 34.0\n",
            "Median: 20.0\n",
            "Variance: 638.3333333333334\n",
            "Standard Deviation: 25.265259415516265\n"
          ]
        }
      ],
      "source": [
        "import statistics\n",
        "\n",
        "def main():\n",
        "    # Get a list of numbers from the user\n",
        "    num_list = [float(x) for x in input(\"Enter a list of numbers separated by spaces: \").split()]\n",
        "\n",
        "    # Calculate mean\n",
        "    mean = sum(num_list) / len(num_list)\n",
        "\n",
        "    # Calculate mode\n",
        "    try:\n",
        "        mode = statistics.mode(num_list)\n",
        "    except statistics.StatisticsError:\n",
        "        mode = \"No unique mode\"\n",
        "\n",
        "    # Calculate median\n",
        "    median = statistics.median(num_list)\n",
        "\n",
        "    # Calculate variance\n",
        "    variance = statistics.variance(num_list)\n",
        "\n",
        "    # Calculate standard deviation\n",
        "    std_dev = statistics.stdev(num_list)\n",
        "\n",
        "    # Print the results\n",
        "    print(\"Mean:\", mean)\n",
        "    print(\"Mode:\", mode)\n",
        "    print(\"Median:\", median)\n",
        "    print(\"Variance:\", variance)\n",
        "    print(\"Standard Deviation:\", std_dev)\n",
        "\n",
        "if __name__ == \"__main__\":\n",
        "    main()\n"
      ]
    },
    {
      "cell_type": "code",
      "source": [],
      "metadata": {
        "id": "R6Vi5CvOfU14"
      },
      "execution_count": null,
      "outputs": []
    }
  ]
}