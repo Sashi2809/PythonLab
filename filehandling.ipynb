{
  "nbformat": 4,
  "nbformat_minor": 0,
  "metadata": {
    "colab": {
      "provenance": [],
      "authorship_tag": "ABX9TyNuNLQgfZOuExQGjVR5Ty3k",
      "include_colab_link": true
    },
    "kernelspec": {
      "name": "python3",
      "display_name": "Python 3"
    },
    "language_info": {
      "name": "python"
    }
  },
  "cells": [
    {
      "cell_type": "markdown",
      "metadata": {
        "id": "view-in-github",
        "colab_type": "text"
      },
      "source": [
        "<a href=\"https://colab.research.google.com/github/Sashi2809/PythonLab/blob/main/filehandling.ipynb\" target=\"_parent\"><img src=\"https://colab.research.google.com/assets/colab-badge.svg\" alt=\"Open In Colab\"/></a>"
      ]
    },
    {
      "cell_type": "code",
      "execution_count": null,
      "metadata": {
        "id": "2YlfKavng30y"
      },
      "outputs": [],
      "source": [
        "ukjwe,dsk"
      ]
    },
    {
      "cell_type": "code",
      "source": [
        "ksjanmsd"
      ],
      "metadata": {
        "id": "P6NcHVSfhFOG"
      },
      "execution_count": null,
      "outputs": []
    }
  ]
}