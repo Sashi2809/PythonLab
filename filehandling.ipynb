{
  "nbformat": 4,
  "nbformat_minor": 0,
  "metadata": {
    "colab": {
      "provenance": [],
      "authorship_tag": "ABX9TyNn0ryVwouLUBMNHxa4Bj/k",
      "include_colab_link": true
    },
    "kernelspec": {
      "name": "python3",
      "display_name": "Python 3"
    },
    "language_info": {
      "name": "python"
    }
  },
  "cells": [
    {
      "cell_type": "markdown",
      "metadata": {
        "id": "view-in-github",
        "colab_type": "text"
      },
      "source": [
        "<a href=\"https://colab.research.google.com/github/Sashi2809/PythonLab/blob/main/filehandling.ipynb\" target=\"_parent\"><img src=\"https://colab.research.google.com/assets/colab-badge.svg\" alt=\"Open In Colab\"/></a>"
      ]
    },
    {
      "cell_type": "code",
      "source": [
        "import os\n",
        "\n",
        "filename = input(\"Enter the filename: \")\n",
        "\n",
        "# Take user input for content\n",
        "content_to_write = input(\"Enter the content to write to the file:\\n\")\n",
        "\n",
        "# Opening a file in write mode\n",
        "with open(filename, \"w\") as file:\n",
        "    file.write(content_to_write)\n",
        "print(f\"Content has been written to '{filename}'\")\n",
        "\n",
        "# Check if the file exists\n",
        "if os.path.exists(filename):\n",
        "    print(f\"'{filename}' exists:\")\n",
        "\n",
        "# Opening the file in read mode\n",
        "    with open(filename, \"r\") as file:\n",
        "        # Reading content from the file\n",
        "        content = file.read()\n",
        "        print(\"Content read from the file:\\n\", content)\n",
        "\n",
        "        # Reading lines from the file\n",
        "        file.seek(0)  # Move the file pointer to the beginning before reading lines\n",
        "        lines = file.readlines()\n",
        "        print(\"Lines read from the file:\", lines)\n",
        "\n",
        "        # Seeking to a specific position and reading\n",
        "        position = int(input(\"Enter a position to seek to: \"))\n",
        "        file.seek(position)\n",
        "        read_after_seek = file.readline()\n",
        "        print(\"Read after seeking:\", read_after_seek)\n",
        "\n",
        "        # Getting the current file pointer position\n",
        "        file_position = file.tell()\n",
        "        print(\"Current file position:\", file_position)\n",
        "else:\n",
        "    print(f\"'{filename}' does not exist\")\n"
      ],
      "metadata": {
        "colab": {
          "base_uri": "https://localhost:8080/"
        },
        "id": "rDRTG8hRiL-1",
        "outputId": "40471a90-6a1f-4563-be63-38b443bb36cf"
      },
      "execution_count": 12,
      "outputs": [
        {
          "output_type": "stream",
          "name": "stdout",
          "text": [
            "Enter the filename: python lab\n",
            "Enter the content to write to the file:\n",
            "filehandling program\n",
            "Content has been written to 'python lab'\n",
            "'python lab' exists:\n",
            "Content read from the file:\n",
            " filehandling program\n",
            "Lines read from the file: ['filehandling program']\n",
            "Enter a position to seek to: 4\n",
            "Read after seeking: handling program\n",
            "Current file position: 20\n"
          ]
        }
      ]
    }
  ]
}